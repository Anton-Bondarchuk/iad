{
 "cells": [
  {
   "cell_type": "code",
   "execution_count": 52,
   "metadata": {},
   "outputs": [
    {
     "data": {
      "text/html": [
       "<div>\n",
       "<style scoped>\n",
       "    .dataframe tbody tr th:only-of-type {\n",
       "        vertical-align: middle;\n",
       "    }\n",
       "\n",
       "    .dataframe tbody tr th {\n",
       "        vertical-align: top;\n",
       "    }\n",
       "\n",
       "    .dataframe thead th {\n",
       "        text-align: right;\n",
       "    }\n",
       "</style>\n",
       "<table border=\"1\" class=\"dataframe\">\n",
       "  <thead>\n",
       "    <tr style=\"text-align: right;\">\n",
       "      <th></th>\n",
       "      <th>0</th>\n",
       "      <th>1</th>\n",
       "      <th>2</th>\n",
       "      <th>3</th>\n",
       "      <th>4</th>\n",
       "      <th>5</th>\n",
       "      <th>6</th>\n",
       "      <th>7</th>\n",
       "    </tr>\n",
       "  </thead>\n",
       "  <tbody>\n",
       "    <tr>\n",
       "      <th>0</th>\n",
       "      <td>10</td>\n",
       "      <td>10</td>\n",
       "      <td>9</td>\n",
       "      <td>9</td>\n",
       "      <td>9</td>\n",
       "      <td>9</td>\n",
       "      <td>10</td>\n",
       "      <td>9</td>\n",
       "    </tr>\n",
       "    <tr>\n",
       "      <th>1</th>\n",
       "      <td>6</td>\n",
       "      <td>2</td>\n",
       "      <td>4</td>\n",
       "      <td>4</td>\n",
       "      <td>7</td>\n",
       "      <td>5</td>\n",
       "      <td>7</td>\n",
       "      <td>6</td>\n",
       "    </tr>\n",
       "    <tr>\n",
       "      <th>2</th>\n",
       "      <td>7</td>\n",
       "      <td>6</td>\n",
       "      <td>7</td>\n",
       "      <td>5</td>\n",
       "      <td>5</td>\n",
       "      <td>5</td>\n",
       "      <td>8</td>\n",
       "      <td>7</td>\n",
       "    </tr>\n",
       "    <tr>\n",
       "      <th>3</th>\n",
       "      <td>7</td>\n",
       "      <td>6</td>\n",
       "      <td>7</td>\n",
       "      <td>5</td>\n",
       "      <td>6</td>\n",
       "      <td>5</td>\n",
       "      <td>8</td>\n",
       "      <td>7</td>\n",
       "    </tr>\n",
       "    <tr>\n",
       "      <th>4</th>\n",
       "      <td>10</td>\n",
       "      <td>10</td>\n",
       "      <td>9</td>\n",
       "      <td>9</td>\n",
       "      <td>9</td>\n",
       "      <td>9</td>\n",
       "      <td>10</td>\n",
       "      <td>9</td>\n",
       "    </tr>\n",
       "  </tbody>\n",
       "</table>\n",
       "</div>"
      ],
      "text/plain": [
       "    0   1  2  3  4  5   6  7\n",
       "0  10  10  9  9  9  9  10  9\n",
       "1   6   2  4  4  7  5   7  6\n",
       "2   7   6  7  5  5  5   8  7\n",
       "3   7   6  7  5  6  5   8  7\n",
       "4  10  10  9  9  9  9  10  9"
      ]
     },
     "execution_count": 52,
     "metadata": {},
     "output_type": "execute_result"
    }
   ],
   "source": [
    "import contextlib\n",
    "\n",
    "import numpy as np\n",
    "import pandas as pd\n",
    "import matplotlib.pyplot as plt\n",
    "from scipy.stats import chi2\n",
    "import seaborn as sns\n",
    "\n",
    "data = pd.read_csv(\"./ЛР_3/Data_Lab3/data2.txt\", sep=\"\\t\", header=None)\n",
    "\n",
    "\n",
    "@contextlib.contextmanager\n",
    "def printoptions(*args, **kwargs):\n",
    "    original = np.get_printoptions()\n",
    "    np.set_printoptions(*args, **kwargs)\n",
    "    try:\n",
    "        yield\n",
    "    finally: \n",
    "        np.set_printoptions(**original)\n",
    "\n",
    "\n",
    "def prety_print(mtx, precision=3, suppress=True): \n",
    "    with printoptions(precision=precision, suppress=suppress):\n",
    "        print(mtx)\n",
    "        \n",
    "        \n",
    "data.head()\n",
    "        "
   ]
  },
  {
   "cell_type": "code",
   "execution_count": 53,
   "metadata": {},
   "outputs": [
    {
     "data": {
      "text/plain": [
       "(100, 8)"
      ]
     },
     "execution_count": 53,
     "metadata": {},
     "output_type": "execute_result"
    }
   ],
   "source": [
    "X = data.values\n",
    "N, K = X.shape\n",
    "X.shape"
   ]
  },
  {
   "cell_type": "code",
   "execution_count": 54,
   "metadata": {},
   "outputs": [
    {
     "name": "stdout",
     "output_type": "stream",
     "text": [
      "\n",
      "Корреляционная матрица R:\n",
      "[[1.    0.945 0.861 0.918 0.654 0.89  0.916 0.952]\n",
      " [0.945 1.    0.929 0.864 0.534 0.841 0.941 0.94 ]\n",
      " [0.861 0.929 1.    0.717 0.296 0.678 0.843 0.858]\n",
      " [0.918 0.864 0.717 1.    0.849 0.973 0.924 0.906]\n",
      " [0.654 0.534 0.296 0.849 1.    0.87  0.682 0.648]\n",
      " [0.89  0.841 0.678 0.973 0.87  1.    0.916 0.883]\n",
      " [0.916 0.941 0.843 0.924 0.682 0.916 1.    0.908]\n",
      " [0.952 0.94  0.858 0.906 0.648 0.883 0.908 1.   ]]\n",
      "\n",
      "Статистика d = 1974.2013765158206\n",
      "Критическое значение χ² с 28 степенями свободы (при α = 0.05) = 41.33713815142739\n",
      "Корреляционная матрица значимо отличается от единичной. Можно применять метод главных компонент.\n",
      "\n",
      "Собственные значения:\n",
      "[6.83  0.901 0.107 0.049 0.041 0.028 0.023 0.022]\n",
      "\n",
      "Матрица собственных векторов A (столбцы – главные компоненты):\n",
      "[[ 0.371  0.106  0.442 -0.659 -0.321  0.072  0.06  -0.331]\n",
      " [ 0.365  0.277 -0.105  0.068 -0.478 -0.129 -0.443  0.577]\n",
      " [ 0.323  0.54  -0.113 -0.11   0.684  0.189 -0.267 -0.067]\n",
      " [ 0.371 -0.215 -0.01  -0.194  0.261 -0.01   0.615  0.576]\n",
      " [ 0.284 -0.697  0.044  0.02   0.123  0.451 -0.461  0.01 ]\n",
      " [ 0.365 -0.27  -0.163  0.015  0.16  -0.804 -0.131 -0.28 ]\n",
      " [ 0.371  0.053 -0.662  0.158 -0.303  0.302  0.299 -0.353]\n",
      " [ 0.369  0.112  0.561  0.697 -0.014  0.044  0.178 -0.134]]\n"
     ]
    }
   ],
   "source": [
    "mean_X = np.mean(X, axis=0)\n",
    "std_X = np.std(X, axis=0, ddof=1)\n",
    "X_std = (X - mean_X) / std_X\n",
    "\n",
    "R = np.dot(X_std.T, X_std) / (N - 1)\n",
    "print(\"\\nКорреляционная матрица R:\")\n",
    "\n",
    "prety_print(R)\n",
    "\n",
    "# d = N * sum(r_ij^2) для i < j.\n",
    "d_stat = 0\n",
    "for i in range(K):\n",
    "    for j in range(i+1, K):\n",
    "        d_stat += R[i, j]**2\n",
    "\n",
    "d_stat *= N\n",
    "degrees_of_freedom = K * (K - 1) / 2\n",
    "critical_value = chi2.ppf(0.95, df=degrees_of_freedom) \n",
    "\n",
    "print(\"\\nСтатистика d =\", d_stat)\n",
    "print(\"Критическое значение χ² с\", int(degrees_of_freedom), \"степенями свободы (при α = 0.05) =\", critical_value)\n",
    "if d_stat > critical_value:\n",
    "    print(\"Корреляционная матрица значимо отличается от единичной. Можно применять метод главных компонент.\\n\")\n",
    "else:\n",
    "    print(\"Корреляционная матрица не отличается значимо от единичной. Применение метода может быть нецелесообразно.\\n\")\n",
    "\n",
    "eigenvalues, eigenvectors = np.linalg.eig(R)\n",
    "\n",
    "idx = np.argsort(eigenvalues)[::-1]\n",
    "eigenvalues = eigenvalues[idx]\n",
    "eigenvectors = eigenvectors[:, idx]\n",
    "print(\"Собственные значения:\")\n",
    "prety_print(eigenvalues)\n",
    "print(\"\\nМатрица собственных векторов A (столбцы – главные компоненты):\")\n",
    "prety_print(eigenvectors)"
   ]
  },
  {
   "cell_type": "markdown",
   "metadata": {},
   "source": [
    "Определить относительную долю разброса, приходящуюся на\n",
    "главные компоненты."
   ]
  },
  {
   "cell_type": "code",
   "execution_count": 55,
   "metadata": {},
   "outputs": [
    {
     "name": "stdout",
     "output_type": "stream",
     "text": [
      "Относительная доля разброса (explained variance ratio) для главных компонент:\n",
      "[0.854 0.113 0.013 0.006 0.005 0.003 0.003 0.003]\n",
      "PC1: 0.8538 (0.8538 cumulative)\n",
      "PC2: 0.1126 (0.9664 cumulative)\n",
      "PC3: 0.0134 (0.9798 cumulative)\n",
      "PC4: 0.0061 (0.9859 cumulative)\n",
      "PC5: 0.0051 (0.9910 cumulative)\n",
      "PC6: 0.0034 (0.9944 cumulative)\n",
      "PC7: 0.0029 (0.9973 cumulative)\n",
      "PC8: 0.0027 (1.0000 cumulative)\n"
     ]
    }
   ],
   "source": [
    "# относительную долю разброса (explained variance ratio)\n",
    "explained_variance_ratio = eigenvalues / np.sum(eigenvalues)\n",
    "cumulative_variance = np.cumsum(explained_variance_ratio)\n",
    "print(\"Относительная доля разброса (explained variance ratio) для главных компонент:\")\n",
    "prety_print(explained_variance_ratio)\n",
    "\n",
    "for i in range(K):\n",
    "        print(f\"PC{i+1}: {explained_variance_ratio[i]:.4f} ({cumulative_variance[i]:.4f} cumulative)\")\n",
    "    "
   ]
  },
  {
   "cell_type": "code",
   "execution_count": 56,
   "metadata": {},
   "outputs": [
    {
     "name": "stdout",
     "output_type": "stream",
     "text": [
      "\n",
      "Проекции объектов на главные компоненты (первые 5 наблюдений):\n",
      "[[ 5.155  0.09  -0.131 -0.333 -0.172 -0.084  0.01   0.092]\n",
      " [-2.627 -1.548 -0.131  0.089 -0.017 -0.11   0.226 -0.414]\n",
      " [-0.462  0.983 -0.359  0.097 -0.069 -0.126  0.211  0.124]\n",
      " [-0.297  0.579 -0.333  0.109  0.002  0.135 -0.057  0.13 ]\n",
      " [ 5.155  0.09  -0.131 -0.333 -0.172 -0.084  0.01   0.092]]\n"
     ]
    }
   ],
   "source": [
    "Z = np.dot(X_std, eigenvectors)\n",
    "print(\"\\nПроекции объектов на главные компоненты (первые 5 наблюдений):\")\n",
    "prety_print(Z[:5, :])\n"
   ]
  },
  {
   "cell_type": "code",
   "execution_count": 57,
   "metadata": {},
   "outputs": [
    {
     "name": "stdout",
     "output_type": "stream",
     "text": [
      "\n",
      "Матрица ковариаций для проекций на главные компоненты:\n",
      "[[ 6.83046759e+00  1.40796216e-15  7.78313493e-16 -9.81889984e-17\n",
      "   1.32007031e-15  1.26833446e-15 -9.33608440e-16  1.06327497e-15]\n",
      " [ 1.40796216e-15  9.00820543e-01 -2.00974636e-17  7.16525989e-16\n",
      "  -4.12142844e-16 -6.16830101e-16  2.59480792e-16  1.79292280e-16]\n",
      " [ 7.78313493e-16 -2.00974636e-17  1.07129806e-01 -7.52324225e-16\n",
      "  -1.50184909e-15  3.48473844e-16  6.09946306e-16  2.08497617e-16]\n",
      " [-9.81889984e-17  7.16525989e-16 -7.52324225e-16  4.88223694e-02\n",
      "   2.66656673e-15 -2.81436211e-16  7.34824920e-17 -1.03920348e-15]\n",
      " [ 1.32007031e-15 -4.12142844e-16 -1.50184909e-15  2.66656673e-15\n",
      "   4.05818048e-02 -1.56435563e-16  3.49129342e-16 -4.80658709e-16]\n",
      " [ 1.26833446e-15 -6.16830101e-16  3.48473844e-16 -2.81436211e-16\n",
      "  -1.56435563e-16  2.75207665e-02  6.30135974e-16 -9.38045442e-16]\n",
      " [-9.33608440e-16  2.59480792e-16  6.09946306e-16  7.34824920e-17\n",
      "   3.49129342e-16  6.30135974e-16  2.28657494e-02 -4.46789408e-15]\n",
      " [ 1.06327497e-15  1.79292280e-16  2.08497617e-16 -1.03920348e-15\n",
      "  -4.80658709e-16 -9.38045442e-16 -4.46789408e-15  2.17913725e-02]]\n"
     ]
    }
   ],
   "source": [
    "cov_Z = np.dot(Z.T, Z) / (N - 1)\n",
    "print(\"\\nМатрица ковариаций для проекций на главные компоненты:\")\n",
    "print(cov_Z)"
   ]
  },
  {
   "cell_type": "markdown",
   "metadata": {},
   "source": [
    "Проверить равенство сумм выборочных дисперсий исходных при-\n",
    "знаков и выборочных дисперсий проекций объектов на главные\n",
    "компоненты."
   ]
  },
  {
   "cell_type": "code",
   "execution_count": 58,
   "metadata": {},
   "outputs": [
    {
     "name": "stdout",
     "output_type": "stream",
     "text": [
      "Сумма дисперсий исходных нормализованных признаков: 8.0\n",
      "Сумма дисперсий проекций на главные компоненты: 8.000000000000002\n"
     ]
    }
   ],
   "source": [
    "original_variance_sum = np.sum(np.var(X_std, axis=0, ddof=1))\n",
    "projected_variance_sum = np.sum(np.var(Z, axis=0, ddof=1))\n",
    "\n",
    "print(\"Сумма дисперсий исходных нормализованных признаков:\", original_variance_sum)\n",
    "print(\"Сумма дисперсий проекций на главные компоненты:\", projected_variance_sum)"
   ]
  },
  {
   "cell_type": "code",
   "execution_count": 59,
   "metadata": {},
   "outputs": [],
   "source": [
    "# plt.figure(figsize=(10, 8))\n",
    "# sns.heatmap(R, annot=True, cmap='coolwarm', \n",
    "#             xticklabels=[f'F{i+1}' for i in range(K)],\n",
    "#             yticklabels=[f'F{i+1}' for i in range(K)])\n",
    "# plt.title('Correlation Matrix')\n",
    "# plt.tight_layout()\n",
    "# plt.show()"
   ]
  },
  {
   "cell_type": "code",
   "execution_count": 60,
   "metadata": {},
   "outputs": [
    {
     "data": {
      "image/png": "[encoded data removed]",
      "text/plain": [
       "<Figure size 1000x800 with 1 Axes>"
      ]
     },
     "metadata": {},
     "output_type": "display_data"
    }
   ],
   "source": [
    "# Построение диаграммы рассеяния по первым двум главным компонентам\n",
    "plt.figure(figsize=(10, 8))\n",
    "\n",
    "vector_scale = 0.5\n",
    "text_scale = 0.6\n",
    "\n",
    "# for i in range(K):\n",
    "#     plt.arrow(0, 0, eigenvectors[i, 0] * max(abs(Z[:, 0])) * vector_scale, \n",
    "#              eigenvectors[i, 1] * max(abs(Z[:, 1])) * vector_scale, \n",
    "#              head_width=0.05, head_length=0.05, fc='red', ec='red', linewidth=1.5)\n",
    "    \n",
    "#     plt.text(eigenvectors[i, 0] * max(abs(Z[:, 0])) * text_scale, \n",
    "#             eigenvectors[i, 1] * max(abs(Z[:, 1])) * text_scale, \n",
    "#             f'F{i+1}', color='green', ha='center', va='center', fontsize=12, fontweight='bold')\n",
    "    \n",
    "plt.scatter(Z[:, 0], Z[:, 1], c='blue', edgecolor='k', alpha=0.7)\n",
    "plt.xlabel(\"Первая главная компонента (PC1)\", fontsize=12)\n",
    "plt.ylabel(\"Вторая главная компонента (PC2)\", fontsize=12)\n",
    "plt.title(\"Диаграмма рассеяния по первым двум главным компонентам\", fontsize=14)\n",
    "plt.grid(True)\n",
    "plt.axhline(y=0, color='k', linestyle='-', alpha=0.3)\n",
    "plt.axvline(x=0, color='k', linestyle='-', alpha=0.3)\n",
    "plt.show()"
   ]
  }
 ],
 "metadata": {
  "kernelspec": {
   "display_name": ".venv",
   "language": "python",
   "name": "python3"
  },
  "language_info": {
   "codemirror_mode": {
    "name": "ipython",
    "version": 3
   },
   "file_extension": ".py",
   "mimetype": "text/x-python",
   "name": "python",
   "nbconvert_exporter": "python",
   "pygments_lexer": "ipython3",
   "version": "3.12.3"
  }
 },
 "nbformat": 4,
 "nbformat_minor": 2
}
